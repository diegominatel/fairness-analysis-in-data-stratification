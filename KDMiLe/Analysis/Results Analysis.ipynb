{
 "cells": [
  {
   "cell_type": "code",
   "execution_count": 1,
   "id": "b30cb967",
   "metadata": {},
   "outputs": [],
   "source": [
    "import pandas as pd\n",
    "import numpy as np\n",
    "import math\n",
    "import sys\n",
    "import os\n",
    "import matplotlib.pyplot as plt\n",
    "from IPython.display import display\n",
    "\n",
    "from scipy.stats import wilcoxon, friedmanchisquare, rankdata\n",
    "from Orange.evaluation import compute_CD, graph_ranks"
   ]
  },
  {
   "cell_type": "code",
   "execution_count": 2,
   "id": "b014d18c",
   "metadata": {},
   "outputs": [],
   "source": [
    "from itertools import combinations\n",
    "\n",
    "measures = ['f1', 'ratio_selection_rate', 'ratio_recall', 'ratio_odds']\n",
    "\n",
    "def multicriteria(measurement_values):\n",
    "    pairs = list(combinations(measurement_values, 2))\n",
    "    area = 0\n",
    "    for a, b in pairs:\n",
    "        area += (a*b*math.sin((2*math.pi)/3)/2)    \n",
    "    return area\n",
    "\n",
    "def multicriteria_validation(validation):\n",
    "    matrix = validation[measures].to_numpy()\n",
    "    validation['multicriteria'] = [multicriteria(row) for row in matrix]\n",
    "    return validation"
   ]
  },
  {
   "cell_type": "code",
   "execution_count": 3,
   "id": "4f1db6b5",
   "metadata": {},
   "outputs": [],
   "source": [
    "results_valid = pd.DataFrame(columns = ['Dataset', 'Config', '(none)', '(class)', '(group)', '(group, class)'])\n",
    "results_test = pd.DataFrame(columns = ['Dataset', 'Config', '(none)', '(class)', '(group)', '(group, class)'])\n",
    "\n",
    "count = 0\n",
    "\n",
    "for name in ['adult', 'alcohol', 'arrhythmia', 'bank', 'compasmen', 'compaswomen', \n",
    "             'contraceptive', 'german', 'heart', 'lsd', 'nicotine', 'titanic']:\n",
    "    for config in ['ad', 'dt', 'mlp', 'svm', 'rf', 'xgb']:\n",
    "        ''' abre os resultados '''\n",
    "        if os.path.exists('../Experiments/' + name + '_' + config + '_validation.csv'):\n",
    "            validation = pd.read_csv('../Experiments/' + name + '_' + config + '_validation.csv', sep=';', index_col=0) \n",
    "            test = pd.read_csv('../Experiments/' + name + '_' + config + '_test.csv', sep=';', index_col=0)\n",
    "            ''' Calcula ratio odds '''\n",
    "            validation['ratio_odds'] = (validation['ratio_fpr'] + validation['ratio_recall'])/2\n",
    "            test['ratio_odds'] = (test['ratio_fpr'] + test['ratio_recall'])/2\n",
    "            ''' Calcula multicriterio '''\n",
    "            validation = multicriteria_validation(validation)\n",
    "            test = multicriteria_validation(test)\n",
    "\n",
    "            values_valid = []\n",
    "            values_valid.append(name)\n",
    "            values_valid.append(config)\n",
    "\n",
    "            values_test = []\n",
    "            values_test.append(name)\n",
    "            values_test.append(config)\n",
    "\n",
    "            for by in ['none', 'target', 'group', 'group_target']:\n",
    "\n",
    "                aux_validation = validation.loc[validation['stratified'] == by].copy()\n",
    "                aux_validation = aux_validation.sort_values(by=['clf_name'])\n",
    "                aux_validation = aux_validation.reset_index()\n",
    "\n",
    "                aux_test = test.loc[test['stratified'] == by].copy()\n",
    "                aux_test = aux_test.sort_values(by=['clf_name'])\n",
    "                aux_test = aux_test.reset_index()\n",
    "\n",
    "                idx = aux_validation['multicriteria'].idxmax()\n",
    "                values_valid.append(aux_validation.loc[idx, 'multicriteria'])\n",
    "                values_test.append(aux_test.loc[idx, 'multicriteria'])\n",
    "                #print(name, config, by, aux_test.loc[idx, 'clf_name'], aux_test.loc[idx, 'clf_params'])\n",
    "\n",
    "            results_valid.loc[count] = values_valid\n",
    "            results_test.loc[count] = values_test\n",
    "            count += 1"
   ]
  },
  {
   "cell_type": "code",
   "execution_count": 4,
   "id": "27607b7f",
   "metadata": {},
   "outputs": [
    {
     "name": "stderr",
     "output_type": "stream",
     "text": [
      "/tmp/ipykernel_24684/2435707002.py:1: FutureWarning: The default value of numeric_only in DataFrameGroupBy.mean is deprecated. In a future version, numeric_only will default to False. Either specify numeric_only or select only columns which should be valid for the function.\n",
      "  results_test.groupby(by=['Dataset']).mean()\n"
     ]
    },
    {
     "data": {
      "text/html": [
       "<div>\n",
       "<style scoped>\n",
       "    .dataframe tbody tr th:only-of-type {\n",
       "        vertical-align: middle;\n",
       "    }\n",
       "\n",
       "    .dataframe tbody tr th {\n",
       "        vertical-align: top;\n",
       "    }\n",
       "\n",
       "    .dataframe thead th {\n",
       "        text-align: right;\n",
       "    }\n",
       "</style>\n",
       "<table border=\"1\" class=\"dataframe\">\n",
       "  <thead>\n",
       "    <tr style=\"text-align: right;\">\n",
       "      <th></th>\n",
       "      <th>(none)</th>\n",
       "      <th>(class)</th>\n",
       "      <th>(group)</th>\n",
       "      <th>(group, class)</th>\n",
       "    </tr>\n",
       "    <tr>\n",
       "      <th>Dataset</th>\n",
       "      <th></th>\n",
       "      <th></th>\n",
       "      <th></th>\n",
       "      <th></th>\n",
       "    </tr>\n",
       "  </thead>\n",
       "  <tbody>\n",
       "    <tr>\n",
       "      <th>adult</th>\n",
       "      <td>0.927137</td>\n",
       "      <td>0.915405</td>\n",
       "      <td>0.931327</td>\n",
       "      <td>0.933399</td>\n",
       "    </tr>\n",
       "    <tr>\n",
       "      <th>alcohol</th>\n",
       "      <td>2.556067</td>\n",
       "      <td>2.585251</td>\n",
       "      <td>2.582544</td>\n",
       "      <td>2.585251</td>\n",
       "    </tr>\n",
       "    <tr>\n",
       "      <th>arrhythmia</th>\n",
       "      <td>1.314054</td>\n",
       "      <td>1.357171</td>\n",
       "      <td>1.208754</td>\n",
       "      <td>1.377748</td>\n",
       "    </tr>\n",
       "    <tr>\n",
       "      <th>bank</th>\n",
       "      <td>1.068700</td>\n",
       "      <td>1.086006</td>\n",
       "      <td>1.096134</td>\n",
       "      <td>1.058488</td>\n",
       "    </tr>\n",
       "    <tr>\n",
       "      <th>compasmen</th>\n",
       "      <td>1.230896</td>\n",
       "      <td>1.251311</td>\n",
       "      <td>1.274013</td>\n",
       "      <td>1.278548</td>\n",
       "    </tr>\n",
       "    <tr>\n",
       "      <th>compaswomen</th>\n",
       "      <td>1.216101</td>\n",
       "      <td>1.180039</td>\n",
       "      <td>1.189163</td>\n",
       "      <td>1.218689</td>\n",
       "    </tr>\n",
       "    <tr>\n",
       "      <th>contraceptive</th>\n",
       "      <td>1.816751</td>\n",
       "      <td>1.866727</td>\n",
       "      <td>1.868475</td>\n",
       "      <td>1.931385</td>\n",
       "    </tr>\n",
       "    <tr>\n",
       "      <th>german</th>\n",
       "      <td>2.114071</td>\n",
       "      <td>2.136196</td>\n",
       "      <td>2.142466</td>\n",
       "      <td>2.158608</td>\n",
       "    </tr>\n",
       "    <tr>\n",
       "      <th>heart</th>\n",
       "      <td>1.255767</td>\n",
       "      <td>1.354997</td>\n",
       "      <td>1.354231</td>\n",
       "      <td>1.424901</td>\n",
       "    </tr>\n",
       "    <tr>\n",
       "      <th>lsd</th>\n",
       "      <td>1.679686</td>\n",
       "      <td>1.747315</td>\n",
       "      <td>1.701577</td>\n",
       "      <td>1.737382</td>\n",
       "    </tr>\n",
       "    <tr>\n",
       "      <th>nicotine</th>\n",
       "      <td>2.227441</td>\n",
       "      <td>2.242308</td>\n",
       "      <td>2.216822</td>\n",
       "      <td>2.227022</td>\n",
       "    </tr>\n",
       "    <tr>\n",
       "      <th>titanic</th>\n",
       "      <td>0.506031</td>\n",
       "      <td>0.372584</td>\n",
       "      <td>0.513127</td>\n",
       "      <td>0.516554</td>\n",
       "    </tr>\n",
       "  </tbody>\n",
       "</table>\n",
       "</div>"
      ],
      "text/plain": [
       "                 (none)   (class)   (group)  (group, class)\n",
       "Dataset                                                    \n",
       "adult          0.927137  0.915405  0.931327        0.933399\n",
       "alcohol        2.556067  2.585251  2.582544        2.585251\n",
       "arrhythmia     1.314054  1.357171  1.208754        1.377748\n",
       "bank           1.068700  1.086006  1.096134        1.058488\n",
       "compasmen      1.230896  1.251311  1.274013        1.278548\n",
       "compaswomen    1.216101  1.180039  1.189163        1.218689\n",
       "contraceptive  1.816751  1.866727  1.868475        1.931385\n",
       "german         2.114071  2.136196  2.142466        2.158608\n",
       "heart          1.255767  1.354997  1.354231        1.424901\n",
       "lsd            1.679686  1.747315  1.701577        1.737382\n",
       "nicotine       2.227441  2.242308  2.216822        2.227022\n",
       "titanic        0.506031  0.372584  0.513127        0.516554"
      ]
     },
     "execution_count": 4,
     "metadata": {},
     "output_type": "execute_result"
    }
   ],
   "source": [
    "results_test.groupby(by=['Dataset']).mean()"
   ]
  },
  {
   "cell_type": "code",
   "execution_count": 5,
   "id": "2d9ae72c",
   "metadata": {},
   "outputs": [
    {
     "name": "stdout",
     "output_type": "stream",
     "text": [
      "((none)) Rank average: 2.7777777777777777\n",
      "((class)) Rank average: 2.576388888888889\n",
      "((group)) Rank average: 2.5833333333333335\n",
      "((group, class)) Rank average: 2.0625\n"
     ]
    }
   ],
   "source": [
    "df = results_test[['(none)', '(class)', '(group)', '(group, class)']]\n",
    "algorithms_names = df.columns\n",
    "results_array = df.values\n",
    "\n",
    "# calcula os ranks\n",
    "ranks_test = np.array([rankdata(-p) for p in results_array])\n",
    "\n",
    "# calcula a média dos ranks\n",
    "average_ranks = np.mean(ranks_test, axis=0)\n",
    "print('\\n'.join('({}) Rank average: {}'.format(a, r) for a, r in zip(algorithms_names, average_ranks)))"
   ]
  },
  {
   "cell_type": "code",
   "execution_count": 6,
   "id": "0fd2a72f",
   "metadata": {
    "scrolled": true
   },
   "outputs": [
    {
     "name": "stdout",
     "output_type": "stream",
     "text": [
      "0.49301808519345824\n"
     ]
    },
    {
     "data": {
      "image/png": "[encoded data removed]",
      "text/plain": [
       "<Figure size 700x155 with 1 Axes>"
      ]
     },
     "metadata": {},
     "output_type": "display_data"
    }
   ],
   "source": [
    "# This method computes the critical difference for Nemenyi test\n",
    "cd = compute_CD(average_ranks, n=len(df), alpha='0.1', test='nemenyi')\n",
    "print(cd)\n",
    "# This method generates the plot.\n",
    "graph_ranks(average_ranks, names=algorithms_names, cd=cd, width=7, textspace=1.25, reverse=False, \n",
    "            filename='cd.pdf')"
   ]
  },
  {
   "cell_type": "code",
   "execution_count": null,
   "id": "e25e177b",
   "metadata": {},
   "outputs": [],
   "source": []
  }
 ],
 "metadata": {
  "kernelspec": {
   "display_name": "Python 3 (ipykernel)",
   "language": "python",
   "name": "python3"
  },
  "language_info": {
   "codemirror_mode": {
    "name": "ipython",
    "version": 3
   },
   "file_extension": ".py",
   "mimetype": "text/x-python",
   "name": "python",
   "nbconvert_exporter": "python",
   "pygments_lexer": "ipython3",
   "version": "3.8.10"
  }
 },
 "nbformat": 4,
 "nbformat_minor": 5
}
